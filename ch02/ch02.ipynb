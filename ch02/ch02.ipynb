{
 "cells": [
  {
   "cell_type": "code",
   "execution_count": 1,
   "metadata": {},
   "outputs": [],
   "source": [
    "%matplotlib inline"
   ]
  },
  {
   "cell_type": "code",
   "execution_count": 2,
   "metadata": {},
   "outputs": [],
   "source": [
    "import numpy as np"
   ]
  },
  {
   "cell_type": "code",
   "execution_count": 3,
   "metadata": {},
   "outputs": [
    {
     "name": "stdout",
     "output_type": "stream",
     "text": [
      "(0, 0) -> 0\n",
      "(1, 0) -> 0\n",
      "(0, 1) -> 0\n",
      "(1, 1) -> 1\n"
     ]
    }
   ],
   "source": [
    "def AND(x1, x2):\n",
    "    x = np.array([x1, x2])\n",
    "    w = np.array([0.5, 0.5])\n",
    "    b = -0.7\n",
    "    tmp = np.sum(w*x) + b\n",
    "    if tmp <= 0:\n",
    "        return 0\n",
    "    else:\n",
    "        return 1\n",
    "\n",
    "if __name__ == '__main__':\n",
    "    for xs in [(0, 0), (1, 0), (0, 1), (1, 1)]:\n",
    "        y = AND(xs[0], xs[1])\n",
    "        print(str(xs) + \" -> \" + str(y))"
   ]
  },
  {
   "cell_type": "code",
   "execution_count": 27,
   "metadata": {},
   "outputs": [
    {
     "data": {
      "image/png": "[encoded data removed]",
      "text/plain": [
       "<Figure size 432x288 with 1 Axes>"
      ]
     },
     "metadata": {
      "needs_background": "light"
     },
     "output_type": "display_data"
    }
   ],
   "source": [
    "import matplotlib.pyplot as plt\n",
    "x = [0, 0, 1, 1]\n",
    "y = [0, 1, 0, 1]\n",
    "plt.plot(x, y, 'o')\n",
    "\n",
    "x = np.arange(0, 1.5, 0.1)\n",
    "b = -0.7\n",
    "w = np.array([b, 0.5, 0.5])\n",
    "w = w / -w[2] # to make w[2] of y to -1\n",
    "b = w[0]\n",
    "a = w[1]\n",
    "y = a*x + b\n",
    "plt.plot(x, y, '-', label='AND')\n",
    "\n",
    "x = np.arange(0, 1.5, 0.1)\n",
    "b = 0.7\n",
    "w = np.array([b, -0.5, -0.5])\n",
    "w = w / -w[2] # to make w[2] of y to -1\n",
    "b = w[0]\n",
    "a = w[1]\n",
    "y = a*x + b\n",
    "plt.plot(x, y, '-', label='NAND')\n",
    "\n",
    "x = np.arange(0, 0.5, 0.1)\n",
    "b = -0.2\n",
    "w = np.array([b, 0.5, 0.5])\n",
    "w = w / -w[2] # to make w[2] of y to -1\n",
    "b = w[0]\n",
    "a = w[1]\n",
    "y = a*x + b\n",
    "plt.plot(x, y, '-', label='NAND')\n",
    "\n",
    "plt.legend()\n",
    "plt.show()"
   ]
  },
  {
   "cell_type": "code",
   "execution_count": 10,
   "metadata": {},
   "outputs": [
    {
     "name": "stdout",
     "output_type": "stream",
     "text": [
      "(0, 0) -> 1\n",
      "(1, 0) -> 1\n",
      "(0, 1) -> 1\n",
      "(1, 1) -> 0\n"
     ]
    }
   ],
   "source": [
    "def NAND(x1, x2):\n",
    "    x = np.array([x1, x2])\n",
    "    w = np.array([-0.5, -0.5])\n",
    "    b = 0.7\n",
    "    tmp = np.sum(w*x) + b\n",
    "    if tmp <= 0:\n",
    "        return 0\n",
    "    else:\n",
    "        return 1\n",
    "\n",
    "if __name__ == '__main__':\n",
    "    for xs in [(0, 0), (1, 0), (0, 1), (1, 1)]:\n",
    "        y = NAND(xs[0], xs[1])\n",
    "        print(str(xs) + \" -> \" + str(y))"
   ]
  },
  {
   "cell_type": "code",
   "execution_count": 12,
   "metadata": {},
   "outputs": [],
   "source": [
    "def OR(x1, x2):\n",
    "    x = np.array([x1, x2])\n",
    "    w = np.array([0.5, 0.5])\n",
    "    b = -0.2\n",
    "    tmp = np.sum(w*x) + b\n",
    "    if tmp <= 0:\n",
    "        return 0\n",
    "    else:\n",
    "        return 1\n",
    "\n",
    "if __name__ == '__main__':\n",
    "    for xs in [(0, 0), (1, 0), (0, 1), (1, 1)]:\n",
    "        y = OR(xs[0], xs[1])"
   ]
  },
  {
   "cell_type": "code",
   "execution_count": null,
   "metadata": {},
   "outputs": [],
   "source": []
  }
 ],
 "metadata": {
  "kernelspec": {
   "display_name": "Python 3",
   "language": "python",
   "name": "python3"
  },
  "language_info": {
   "codemirror_mode": {
    "name": "ipython",
    "version": 3
   },
   "file_extension": ".py",
   "mimetype": "text/x-python",
   "name": "python",
   "nbconvert_exporter": "python",
   "pygments_lexer": "ipython3",
   "version": "3.6.5"
  }
 },
 "nbformat": 4,
 "nbformat_minor": 2
}
